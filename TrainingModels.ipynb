{
  "nbformat": 4,
  "nbformat_minor": 0,
  "metadata": {
    "colab": {
      "name": "TrainingModels.ipynb",
      "provenance": []
    },
    "kernelspec": {
      "name": "python3",
      "display_name": "Python 3"
    },
    "language_info": {
      "name": "python"
    }
  },
  "cells": [
    {
      "cell_type": "code",
      "execution_count": 1,
      "metadata": {
        "id": "he30jQcS2dLv"
      },
      "outputs": [],
      "source": [
        "import pandas as pd\n",
        "import numpy as np\n",
        "from sklearn.model_selection import train_test_split\n",
        "from sklearn.naive_bayes import GaussianNB\n",
        "from sklearn.linear_model import LogisticRegression\n",
        "from sklearn import svm\n",
        "from sklearn.feature_extraction.text import TfidfVectorizer\n",
        "from sklearn.metrics import confusion_matrix\n",
        "from sklearn.metrics import confusion_matrix,f1_score, precision_score,recall_score, f1_score, balanced_accuracy_score\n",
        "import matplotlib.pyplot as plt\n",
        "from sklearn.metrics import confusion_matrix\n",
        "import itertools\n",
        "from sklearn.neighbors import KNeighborsClassifier"
      ]
    },
    {
      "cell_type": "code",
      "source": [
        ""
      ],
      "metadata": {
        "id": "WLMYU7Bx3A-n"
      },
      "execution_count": 1,
      "outputs": []
    },
    {
      "cell_type": "markdown",
      "metadata": {
        "id": "Ko0r-TraGALn"
      },
      "source": [
        "# Extracting features"
      ]
    },
    {
      "cell_type": "code",
      "source": [
        "vectorizer = TfidfVectorizer()"
      ],
      "metadata": {
        "id": "Sf4eAAksjbDW"
      },
      "execution_count": 2,
      "outputs": []
    },
    {
      "cell_type": "code",
      "execution_count": 3,
      "metadata": {
        "id": "MjfBWL__hx4N"
      },
      "outputs": [],
      "source": [
        "def convert_to_feature(raw_tokenize_data):\n",
        "    raw_sentences = [' '.join(o) for o in raw_tokenize_data]\n",
        "    return vectorizer.transform(raw_sentences)"
      ]
    },
    {
      "cell_type": "code",
      "source": [
        "def extracting_features(X):\n",
        "    X = [str(i).split(\" \") for i in X]\n",
        "    \n",
        "    raw_sentences = [' '.join(i) for i in X]\n",
        "    vectorizer.fit(raw_sentences)\n",
        "    X_features = convert_to_feature(X)\n",
        "    return X_features"
      ],
      "metadata": {
        "id": "2wio-xa8hnMZ"
      },
      "execution_count": 4,
      "outputs": []
    },
    {
      "cell_type": "markdown",
      "source": [
        "# features"
      ],
      "metadata": {
        "id": "IW8FHABiilE-"
      }
    },
    {
      "cell_type": "code",
      "execution_count": 5,
      "metadata": {
        "id": "TYxurPb0vn89"
      },
      "outputs": [],
      "source": [
        "df = pd.read_csv(\"CleanHam.csv\")\n"
      ]
    },
    {
      "cell_type": "code",
      "source": [
        "XH = df.iloc[:,2] #EmailText column\n",
        "YH = df.iloc[:,1]  #Label"
      ],
      "metadata": {
        "id": "GEHjZQM-wAwz"
      },
      "execution_count": 6,
      "outputs": []
    },
    {
      "cell_type": "code",
      "execution_count": 7,
      "metadata": {
        "id": "1CJ6oPqvikIZ"
      },
      "outputs": [],
      "source": [
        "df = pd.read_csv(\"CleanSpam.csv\")\n"
      ]
    },
    {
      "cell_type": "code",
      "source": [
        "XS = df.iloc[:,2] #EmailText column\n",
        "YS = df.iloc[:,1]  #Label"
      ],
      "metadata": {
        "id": "G820H8taikIa"
      },
      "execution_count": 8,
      "outputs": []
    },
    {
      "cell_type": "code",
      "source": [
        "X = np.concatenate((XH,XS))"
      ],
      "metadata": {
        "id": "r0lUa7Ihky3G"
      },
      "execution_count": 9,
      "outputs": []
    },
    {
      "cell_type": "code",
      "source": [
        "X[9]"
      ],
      "metadata": {
        "colab": {
          "base_uri": "https://localhost:8080/",
          "height": 53
        },
        "id": "HtNlMkRz2_8i",
        "outputId": "9570811d-b470-401f-8906-c99b5917f1be"
      },
      "execution_count": 10,
      "outputs": [
        {
          "output_type": "execute_result",
          "data": {
            "text/plain": [
              "'dont know make bay area eff having benifit party ast dna lounge san francisco tonight wil weaton wesley crussher star trek tng fight barney dinasour come youre doing sfnet email sponsored osdn tired old cell phone new free httpadr spamassassindevel mailing list adremail httpadr'"
            ],
            "application/vnd.google.colaboratory.intrinsic+json": {
              "type": "string"
            }
          },
          "metadata": {},
          "execution_count": 10
        }
      ]
    },
    {
      "cell_type": "code",
      "source": [
        "X.shape"
      ],
      "metadata": {
        "colab": {
          "base_uri": "https://localhost:8080/"
        },
        "id": "U008gcL5k-iQ",
        "outputId": "69c1e0ea-431f-472e-855b-07f2e19ff8b9"
      },
      "execution_count": 11,
      "outputs": [
        {
          "output_type": "execute_result",
          "data": {
            "text/plain": [
              "(5076,)"
            ]
          },
          "metadata": {},
          "execution_count": 11
        }
      ]
    },
    {
      "cell_type": "code",
      "source": [
        "X_features = extracting_features(X)"
      ],
      "metadata": {
        "id": "1F2ABRdF4Z11"
      },
      "execution_count": 12,
      "outputs": []
    },
    {
      "cell_type": "code",
      "source": [
        "X_features.shape"
      ],
      "metadata": {
        "colab": {
          "base_uri": "https://localhost:8080/"
        },
        "id": "sJnfHZV5kZuF",
        "outputId": "5acf81c9-811e-4248-8717-ba1b4956cea4"
      },
      "execution_count": 13,
      "outputs": [
        {
          "output_type": "execute_result",
          "data": {
            "text/plain": [
              "(5076, 69446)"
            ]
          },
          "metadata": {},
          "execution_count": 13
        }
      ]
    },
    {
      "cell_type": "code",
      "source": [
        "Y = np.concatenate((YH, YS))"
      ],
      "metadata": {
        "id": "dHzAK_QojAji"
      },
      "execution_count": 14,
      "outputs": []
    },
    {
      "cell_type": "code",
      "source": [
        "Y.shape"
      ],
      "metadata": {
        "colab": {
          "base_uri": "https://localhost:8080/"
        },
        "id": "9vN9vbcejES6",
        "outputId": "7fc07712-3eb7-4c3c-967c-3386c40862eb"
      },
      "execution_count": 15,
      "outputs": [
        {
          "output_type": "execute_result",
          "data": {
            "text/plain": [
              "(5076,)"
            ]
          },
          "metadata": {},
          "execution_count": 15
        }
      ]
    },
    {
      "cell_type": "markdown",
      "source": [
        "# Splitting data to test and train data"
      ],
      "metadata": {
        "id": "0h-PuHBL3x56"
      }
    },
    {
      "cell_type": "code",
      "source": [
        "X_train, X_test, y_train, y_test = train_test_split(X_features, Y, random_state=0, train_size = .8)"
      ],
      "metadata": {
        "id": "TFnFawlk32Qm"
      },
      "execution_count": 16,
      "outputs": []
    },
    {
      "cell_type": "markdown",
      "source": [
        "# Training Models"
      ],
      "metadata": {
        "id": "bLW2Ti0B43NY"
      }
    },
    {
      "cell_type": "code",
      "source": [
        "X_train.shape"
      ],
      "metadata": {
        "colab": {
          "base_uri": "https://localhost:8080/"
        },
        "id": "gxwrLbSx45fR",
        "outputId": "ed23002d-906c-4ea1-810f-196b287acbb3"
      },
      "execution_count": 17,
      "outputs": [
        {
          "output_type": "execute_result",
          "data": {
            "text/plain": [
              "(4060, 69446)"
            ]
          },
          "metadata": {},
          "execution_count": 17
        }
      ]
    },
    {
      "cell_type": "markdown",
      "metadata": {
        "id": "0QLP2EzwGEqT"
      },
      "source": [
        "# Gaussien model"
      ]
    },
    {
      "cell_type": "code",
      "execution_count": 18,
      "metadata": {
        "id": "vURD9w_RIh13"
      },
      "outputs": [],
      "source": [
        "gs = GaussianNB()"
      ]
    },
    {
      "cell_type": "code",
      "execution_count": 19,
      "metadata": {
        "id": "fdI9NHarIh14",
        "colab": {
          "base_uri": "https://localhost:8080/"
        },
        "outputId": "dea23451-8eba-4a60-82b9-594ba574de16"
      },
      "outputs": [
        {
          "output_type": "execute_result",
          "data": {
            "text/plain": [
              "GaussianNB()"
            ]
          },
          "metadata": {},
          "execution_count": 19
        }
      ],
      "source": [
        "gs.fit(X_train.toarray(),y_train)"
      ]
    },
    {
      "cell_type": "markdown",
      "metadata": {
        "id": "I96Xwlq0GNMX"
      },
      "source": [
        "# Logistic Regression model"
      ]
    },
    {
      "cell_type": "code",
      "execution_count": 20,
      "metadata": {
        "id": "jmlpn-IKGfaZ"
      },
      "outputs": [],
      "source": [
        "lr = LogisticRegression(random_state=0)\n"
      ]
    },
    {
      "cell_type": "code",
      "source": [
        "lr.fit(X_train.toarray(),y_train)"
      ],
      "metadata": {
        "colab": {
          "base_uri": "https://localhost:8080/"
        },
        "id": "LyP7vUJi5Hg0",
        "outputId": "bd4a511d-8d08-457f-9f2a-97fc813f5cd9"
      },
      "execution_count": 21,
      "outputs": [
        {
          "output_type": "execute_result",
          "data": {
            "text/plain": [
              "LogisticRegression(random_state=0)"
            ]
          },
          "metadata": {},
          "execution_count": 21
        }
      ]
    },
    {
      "cell_type": "markdown",
      "metadata": {
        "id": "JvAYLa1KI4X5"
      },
      "source": [
        "# SVM rbf model"
      ]
    },
    {
      "cell_type": "code",
      "execution_count": 22,
      "metadata": {
        "id": "H0-79dqTI4X8"
      },
      "outputs": [],
      "source": [
        "svm = svm.SVC(kernel='rbf', gamma=0.7, C=1.0)"
      ]
    },
    {
      "cell_type": "code",
      "source": [
        "svm.fit(X_train.toarray(),y_train)\n"
      ],
      "metadata": {
        "colab": {
          "base_uri": "https://localhost:8080/"
        },
        "id": "OKtjVl_i5KXf",
        "outputId": "744a3180-a17e-4658-a660-1b4600bfdfcb"
      },
      "execution_count": 23,
      "outputs": [
        {
          "output_type": "execute_result",
          "data": {
            "text/plain": [
              "SVC(gamma=0.7)"
            ]
          },
          "metadata": {},
          "execution_count": 23
        }
      ]
    },
    {
      "cell_type": "markdown",
      "source": [
        "# KNN"
      ],
      "metadata": {
        "id": "U0VMWtZi5ijm"
      }
    },
    {
      "cell_type": "code",
      "source": [
        "neigh = KNeighborsClassifier(n_neighbors=3)\n",
        "neigh.fit(X_train.toarray(),y_train)"
      ],
      "metadata": {
        "colab": {
          "base_uri": "https://localhost:8080/"
        },
        "id": "BWaxwKHv5ld2",
        "outputId": "4a49300f-cb7c-4a9a-a09d-82487c7b35ba"
      },
      "execution_count": 24,
      "outputs": [
        {
          "output_type": "execute_result",
          "data": {
            "text/plain": [
              "KNeighborsClassifier(n_neighbors=3)"
            ]
          },
          "metadata": {},
          "execution_count": 24
        }
      ]
    },
    {
      "cell_type": "markdown",
      "source": [
        "# **Error Analysis Function**"
      ],
      "metadata": {
        "id": "fqOWnCLrEYKm"
      }
    },
    {
      "cell_type": "code",
      "execution_count": 25,
      "metadata": {
        "id": "6dFszHkaUztR"
      },
      "outputs": [],
      "source": [
        "def mesures(model, X, Y):\n",
        "  y_predict = model.predict(X)\n",
        "  tn, fp, fn, tp = confusion_matrix(Y,y_predict).ravel()\n",
        "  print(\"Precision: {:.2f}%\".format(100 * precision_score(Y, y_predict)))\n",
        "  print(\"Recall: {:.2f}%\".format(100 * recall_score(Y, y_predict)))\n",
        "  print(\"f1 score macro: {:.2f}%\".format(100 * f1_score(Y, y_predict, average='macro')))\n",
        "  print(\"f1 score micro: {:.2f}%\".format(100 * f1_score(Y, y_predict, average='micro')))\n",
        "  print(\"f1 score wieghted: {:.2f}%\".format(100 * f1_score(Y, y_predict, average='weighted')))\n",
        "  print(\"f1 score none: {:.2f}%\".format(100 * f1_score(Y, y_predict)))\n",
        "  print(\"balanced accuracy : {:.2f}%\".format(100 * balanced_accuracy_score(Y, y_predict)))\n",
        "  cnf_matrix = confusion_matrix(Y,y_predict)\n",
        "  plt.figure()\n",
        "  plot_confusion_matrix(cnf_matrix, classes=['Non Spam','Spam'], normalize=False,\n",
        "                      title='Confusion matrix')\n"
      ]
    },
    {
      "cell_type": "code",
      "execution_count": 26,
      "metadata": {
        "id": "jIn8xDdEVX7c"
      },
      "outputs": [],
      "source": [
        "def show_confusion_matrix(model, X, Y):\n",
        "  y_predict = model.predict(X)\n",
        "  cnf_matrix = confusion_matrix(Y,y_predict)\n",
        "  plt.figure()\n",
        "  plot_confusion_matrix(cnf_matrix, classes=['Non Spam','Spam'], normalize=False,\n",
        "                      title='Confusion matrix')\n"
      ]
    },
    {
      "cell_type": "code",
      "execution_count": 27,
      "metadata": {
        "id": "Xz8qoIT8Ih2U"
      },
      "outputs": [],
      "source": [
        "def plot_confusion_matrix(cm, classes,\n",
        "                          normalize=False,\n",
        "                          title='Confusion matrix',\n",
        "                          cmap=plt.cm.Blues):\n",
        "    \"\"\"\n",
        "    This function prints and plots the confusion matrix.\n",
        "    Normalization can be applied by setting `normalize=True`.\n",
        "    \"\"\"\n",
        "    if normalize:\n",
        "        cm = cm.astype('float') / cm.sum(axis=1)[:, np.newaxis]\n",
        "        print(\"Normalized confusion matrix\")\n",
        "    else:\n",
        "        print('Confusion matrix, without normalization')\n",
        "\n",
        "    print(cm)\n",
        "\n",
        "    plt.imshow(cm, interpolation='nearest', cmap=cmap)\n",
        "    plt.title(title)\n",
        "    plt.colorbar()\n",
        "    tick_marks = np.arange(len(classes))\n",
        "    plt.xticks(tick_marks, classes, rotation=45)\n",
        "    plt.yticks(tick_marks, classes)\n",
        "\n",
        "    fmt = '.2f' if normalize else 'd'\n",
        "    thresh = cm.max() / 2.\n",
        "    for i, j in itertools.product(range(cm.shape[0]), range(cm.shape[1])):\n",
        "        plt.text(j, i, format(cm[i, j], fmt),\n",
        "                 horizontalalignment=\"center\",\n",
        "                 color=\"white\" if cm[i, j] > thresh else \"black\")\n",
        "\n",
        "    plt.ylabel('True label')\n",
        "    plt.xlabel('Predicted label')\n",
        "    plt.tight_layout()\n"
      ]
    },
    {
      "cell_type": "code",
      "source": [
        ""
      ],
      "metadata": {
        "id": "fsi38l4g5y0U"
      },
      "execution_count": 27,
      "outputs": []
    },
    {
      "cell_type": "markdown",
      "source": [
        "# **Model Mesures**"
      ],
      "metadata": {
        "id": "w9LUJ5AD59eD"
      }
    },
    {
      "cell_type": "markdown",
      "source": [
        "# Gaussian"
      ],
      "metadata": {
        "id": "2Pro84mQ721Z"
      }
    },
    {
      "cell_type": "markdown",
      "source": [
        "**Training data**"
      ],
      "metadata": {
        "id": "erqTNN3D8LFr"
      }
    },
    {
      "cell_type": "code",
      "execution_count": 28,
      "metadata": {
        "id": "26AARK4uIh1-"
      },
      "outputs": [],
      "source": [
        "#gs.score(X_train.toarray(),y_train)\n"
      ]
    },
    {
      "cell_type": "code",
      "source": [
        "#mesures(gs, X_train.toarray(),y_train)"
      ],
      "metadata": {
        "id": "8PPrMqBrEBx5"
      },
      "execution_count": 29,
      "outputs": []
    },
    {
      "cell_type": "code",
      "source": [
        "#show_confusion_matrix(gs, X_train.toarray(),y_train)"
      ],
      "metadata": {
        "id": "NrzIaGVDECGf"
      },
      "execution_count": 30,
      "outputs": []
    },
    {
      "cell_type": "markdown",
      "source": [
        "**Testing Data**"
      ],
      "metadata": {
        "id": "iDYATd8e8OjS"
      }
    },
    {
      "cell_type": "code",
      "execution_count": 31,
      "metadata": {
        "id": "1uXTnApBIh17",
        "colab": {
          "base_uri": "https://localhost:8080/"
        },
        "outputId": "0c76d880-c7c3-4b7b-e7ff-a162b1c0ecc9"
      },
      "outputs": [
        {
          "output_type": "execute_result",
          "data": {
            "text/plain": [
              "0.9232283464566929"
            ]
          },
          "metadata": {},
          "execution_count": 31
        }
      ],
      "source": [
        "gs.score(X_test.toarray(),y_test)"
      ]
    },
    {
      "cell_type": "code",
      "source": [
        "mesures(gs, X_test.toarray(),y_test)"
      ],
      "metadata": {
        "colab": {
          "base_uri": "https://localhost:8080/",
          "height": 471
        },
        "id": "QfvCe0eG6QFj",
        "outputId": "51cd1a46-a895-45c3-dc1b-3739161fa01d"
      },
      "execution_count": 32,
      "outputs": [
        {
          "output_type": "stream",
          "name": "stdout",
          "text": [
            "Precision: 83.96%\n",
            "Recall: 76.59%\n",
            "f1 score macro: 87.67%\n",
            "f1 score micro: 92.32%\n",
            "f1 score wieghted: 92.19%\n",
            "f1 score none: 80.10%\n",
            "balanced accuracy : 86.44%\n",
            "Confusion matrix, without normalization\n",
            "[[781  30]\n",
            " [ 48 157]]\n"
          ]
        },
        {
          "output_type": "display_data",
          "data": {
            "text/plain": [
              "<Figure size 432x288 with 2 Axes>"
            ],
            "image/png": "[encoded data removed]"
          },
          "metadata": {
            "needs_background": "light"
          }
        }
      ]
    },
    {
      "cell_type": "code",
      "source": [
        ""
      ],
      "metadata": {
        "id": "jnqp1dx-6Ugn"
      },
      "execution_count": 32,
      "outputs": []
    },
    {
      "cell_type": "markdown",
      "source": [
        "# Logistic Regression"
      ],
      "metadata": {
        "id": "Tmd8jpz68TAc"
      }
    },
    {
      "cell_type": "markdown",
      "source": [
        "**Training data**"
      ],
      "metadata": {
        "id": "_8olPMJr8TAd"
      }
    },
    {
      "cell_type": "code",
      "execution_count": 33,
      "metadata": {
        "id": "ki99yfIR8TAd"
      },
      "outputs": [],
      "source": [
        "#lr.score(X_train.toarray(),y_train)\n"
      ]
    },
    {
      "cell_type": "code",
      "source": [
        "#mesures(lr, X_train.toarray(),y_train)"
      ],
      "metadata": {
        "id": "rsHTBByQ8TAd"
      },
      "execution_count": 34,
      "outputs": []
    },
    {
      "cell_type": "code",
      "source": [
        ""
      ],
      "metadata": {
        "id": "5E8V_w5E8TAe"
      },
      "execution_count": 34,
      "outputs": []
    },
    {
      "cell_type": "markdown",
      "source": [
        "**Testing Data**"
      ],
      "metadata": {
        "id": "jRbr5HD68TAe"
      }
    },
    {
      "cell_type": "code",
      "execution_count": 35,
      "metadata": {
        "id": "hkisITlB8TAe"
      },
      "outputs": [],
      "source": [
        "#lr.score(X_test.toarray(),y_test)"
      ]
    },
    {
      "cell_type": "code",
      "source": [
        "mesures(lr, X_test.toarray(),y_test)"
      ],
      "metadata": {
        "colab": {
          "base_uri": "https://localhost:8080/",
          "height": 471
        },
        "id": "8erF1kAl8TAe",
        "outputId": "f4173368-252a-4ab3-dfe7-4d787dbbaa8a"
      },
      "execution_count": 36,
      "outputs": [
        {
          "output_type": "stream",
          "name": "stdout",
          "text": [
            "Precision: 97.67%\n",
            "Recall: 81.95%\n",
            "f1 score macro: 93.32%\n",
            "f1 score micro: 95.96%\n",
            "f1 score wieghted: 95.83%\n",
            "f1 score none: 89.12%\n",
            "balanced accuracy : 90.73%\n",
            "Confusion matrix, without normalization\n",
            "[[807   4]\n",
            " [ 37 168]]\n"
          ]
        },
        {
          "output_type": "display_data",
          "data": {
            "text/plain": [
              "<Figure size 432x288 with 2 Axes>"
            ],
            "image/png": "[encoded data removed]"
          },
          "metadata": {
            "needs_background": "light"
          }
        }
      ]
    },
    {
      "cell_type": "code",
      "source": [
        ""
      ],
      "metadata": {
        "id": "LZ9E0HvE8TAe"
      },
      "execution_count": 36,
      "outputs": []
    },
    {
      "cell_type": "markdown",
      "source": [
        "# SVM"
      ],
      "metadata": {
        "id": "vyEohdIB8Tmp"
      }
    },
    {
      "cell_type": "markdown",
      "source": [
        "**Training data**"
      ],
      "metadata": {
        "id": "Ui9IGU-n8Tmp"
      }
    },
    {
      "cell_type": "code",
      "execution_count": 37,
      "metadata": {
        "id": "ZMduYmKH8Tmq"
      },
      "outputs": [],
      "source": [
        "#svm.score(X_train.toarray(),y_train)\n"
      ]
    },
    {
      "cell_type": "code",
      "source": [
        "#mesures(svm, X_train.toarray(),y_train)"
      ],
      "metadata": {
        "id": "6GvRy_H-8Tmq"
      },
      "execution_count": 38,
      "outputs": []
    },
    {
      "cell_type": "code",
      "source": [
        "#show_confusion_matrix(svm, X_train.toarray(),y_train)"
      ],
      "metadata": {
        "id": "MhC2wB3i8Tmq"
      },
      "execution_count": 39,
      "outputs": []
    },
    {
      "cell_type": "markdown",
      "source": [
        "**Testing Data**"
      ],
      "metadata": {
        "id": "Kh_MMkal8Tmq"
      }
    },
    {
      "cell_type": "code",
      "execution_count": 40,
      "metadata": {
        "id": "KGQHXokt8Tmq"
      },
      "outputs": [],
      "source": [
        "#svm.score(X_test.toarray(),y_test)"
      ]
    },
    {
      "cell_type": "code",
      "source": [
        "mesures(svm, X_test.toarray(),y_test)"
      ],
      "metadata": {
        "colab": {
          "base_uri": "https://localhost:8080/",
          "height": 471
        },
        "id": "Xx5hvopj8Tmq",
        "outputId": "6e890eba-8d7e-4793-c9cd-05aef9cdc33d"
      },
      "execution_count": 41,
      "outputs": [
        {
          "output_type": "stream",
          "name": "stdout",
          "text": [
            "Precision: 97.89%\n",
            "Recall: 90.73%\n",
            "f1 score macro: 96.39%\n",
            "f1 score micro: 97.74%\n",
            "f1 score wieghted: 97.70%\n",
            "f1 score none: 94.18%\n",
            "balanced accuracy : 95.12%\n",
            "Confusion matrix, without normalization\n",
            "[[807   4]\n",
            " [ 19 186]]\n"
          ]
        },
        {
          "output_type": "display_data",
          "data": {
            "text/plain": [
              "<Figure size 432x288 with 2 Axes>"
            ],
            "image/png": "[encoded data removed]"
          },
          "metadata": {
            "needs_background": "light"
          }
        }
      ]
    },
    {
      "cell_type": "code",
      "source": [
        ""
      ],
      "metadata": {
        "id": "4UOQFOB38Tmr"
      },
      "execution_count": 41,
      "outputs": []
    },
    {
      "cell_type": "markdown",
      "source": [
        "# KNN"
      ],
      "metadata": {
        "id": "7KqPMfy_8ULP"
      }
    },
    {
      "cell_type": "markdown",
      "source": [
        "**Training data**"
      ],
      "metadata": {
        "id": "juHTwOub8ULP"
      }
    },
    {
      "cell_type": "code",
      "execution_count": 42,
      "metadata": {
        "id": "GnsrwlBU8ULP"
      },
      "outputs": [],
      "source": [
        "#neigh.score(X_train.toarray(),y_train)\n"
      ]
    },
    {
      "cell_type": "code",
      "source": [
        "#mesures(neigh, X_train.toarray(),y_train)"
      ],
      "metadata": {
        "id": "B1CPXLbJ8ULQ"
      },
      "execution_count": 43,
      "outputs": []
    },
    {
      "cell_type": "code",
      "source": [
        "#show_confusion_matrix(neigh, X_train.toarray(),y_train)"
      ],
      "metadata": {
        "id": "vdMC-jO28ULQ"
      },
      "execution_count": 44,
      "outputs": []
    },
    {
      "cell_type": "markdown",
      "source": [
        "**Testing Data**"
      ],
      "metadata": {
        "id": "5Brwr_yz8ULQ"
      }
    },
    {
      "cell_type": "code",
      "execution_count": 45,
      "metadata": {
        "id": "JcL1w4MN8ULQ"
      },
      "outputs": [],
      "source": [
        "#neigh.score(X_test.toarray(),y_test)"
      ]
    },
    {
      "cell_type": "code",
      "source": [
        "mesures(neigh, X_test.toarray(),y_test)"
      ],
      "metadata": {
        "colab": {
          "base_uri": "https://localhost:8080/",
          "height": 471
        },
        "id": "4qauPuJS8ULQ",
        "outputId": "d81233b4-db16-426b-8c9b-4d2918af360c"
      },
      "execution_count": 46,
      "outputs": [
        {
          "output_type": "stream",
          "name": "stdout",
          "text": [
            "Precision: 86.61%\n",
            "Recall: 94.63%\n",
            "f1 score macro: 93.94%\n",
            "f1 score micro: 95.96%\n",
            "f1 score wieghted: 96.03%\n",
            "f1 score none: 90.44%\n",
            "balanced accuracy : 95.47%\n",
            "Confusion matrix, without normalization\n",
            "[[781  30]\n",
            " [ 11 194]]\n"
          ]
        },
        {
          "output_type": "display_data",
          "data": {
            "text/plain": [
              "<Figure size 432x288 with 2 Axes>"
            ],
            "image/png": "[encoded data removed]"
          },
          "metadata": {
            "needs_background": "light"
          }
        }
      ]
    },
    {
      "cell_type": "code",
      "source": [
        ""
      ],
      "metadata": {
        "id": "oIHs08FJ8ULQ"
      },
      "execution_count": 46,
      "outputs": []
    }
  ]
}