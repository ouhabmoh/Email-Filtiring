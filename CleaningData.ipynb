{
 "nbformat": 4,
 "nbformat_minor": 0,
 "metadata": {
  "colab": {
   "name": "CleaningData.ipynb",
   "provenance": []
  },
  "kernelspec": {
   "name": "python3",
   "display_name": "Python 3"
  },
  "language_info": {
   "name": "python"
  }
 },
 "cells": [
  {
   "cell_type": "code",
   "source": [
    "import pandas as pd\n",
    "import numpy as np"
   ],
   "metadata": {
    "id": "BhRSXz1fvqzg",
    "pycharm": {
     "name": "#%%\n"
    }
   },
   "execution_count": 1,
   "outputs": []
  },
  {
   "cell_type": "code",
   "source": [
    "import re\n",
    "import string\n",
    "from nltk.tokenize import word_tokenize\n",
    "import nltk\n",
    "from nltk.tokenize import word_tokenize\n",
    "from sklearn.feature_extraction import _stop_words\n",
    "\n",
    "from nltk.stem import PorterStemmer\n",
    "from nltk.stem import WordNetLemmatizer"
   ],
   "metadata": {
    "id": "gSBobrtmwWJB",
    "pycharm": {
     "name": "#%%\n"
    }
   },
   "execution_count": 2,
   "outputs": []
  },
  {
   "cell_type": "code",
   "source": [
    "!pip install clean-text[gpl]"
   ],
   "metadata": {
    "colab": {
     "base_uri": "https://localhost:8080/"
    },
    "id": "JjhZP0dHwZFd",
    "outputId": "e64bc25d-ebb2-446b-a4ac-33697eabf020",
    "pycharm": {
     "name": "#%%\n"
    }
   },
   "execution_count": 3,
   "outputs": [
    {
     "output_type": "stream",
     "name": "stdout",
     "text": [
      "Looking in indexes: https://pypi.org/simple, https://us-python.pkg.dev/colab-wheels/public/simple/\n",
      "Requirement already satisfied: clean-text[gpl] in /usr/local/lib/python3.7/dist-packages (0.6.0)\n",
      "Requirement already satisfied: ftfy<7.0,>=6.0 in /usr/local/lib/python3.7/dist-packages (from clean-text[gpl]) (6.1.1)\n",
      "Requirement already satisfied: emoji<2.0.0,>=1.0.0 in /usr/local/lib/python3.7/dist-packages (from clean-text[gpl]) (1.7.0)\n",
      "Requirement already satisfied: unidecode<2.0.0,>=1.1.1 in /usr/local/lib/python3.7/dist-packages (from clean-text[gpl]) (1.3.4)\n",
      "Requirement already satisfied: wcwidth>=0.2.5 in /usr/local/lib/python3.7/dist-packages (from ftfy<7.0,>=6.0->clean-text[gpl]) (0.2.5)\n"
     ]
    }
   ]
  },
  {
   "cell_type": "code",
   "source": [
    "nltk.download('punkt')\n",
    "nltk.download('wordnet')\n",
    "nltk.download('omw-1.4')"
   ],
   "metadata": {
    "colab": {
     "base_uri": "https://localhost:8080/"
    },
    "id": "AYvWqSZowb5l",
    "outputId": "923e3ef6-ccce-4207-c9b0-e4b5310b9b13",
    "pycharm": {
     "name": "#%%\n"
    }
   },
   "execution_count": 4,
   "outputs": [
    {
     "output_type": "stream",
     "name": "stderr",
     "text": [
      "[nltk_data] Downloading package punkt to /root/nltk_data...\n",
      "[nltk_data]   Package punkt is already up-to-date!\n",
      "[nltk_data] Downloading package wordnet to /root/nltk_data...\n",
      "[nltk_data]   Package wordnet is already up-to-date!\n",
      "[nltk_data] Downloading package omw-1.4 to /root/nltk_data...\n",
      "[nltk_data]   Package omw-1.4 is already up-to-date!\n"
     ]
    },
    {
     "output_type": "execute_result",
     "data": {
      "text/plain": [
       "True"
      ]
     },
     "metadata": {},
     "execution_count": 4
    }
   ]
  },
  {
   "cell_type": "code",
   "source": [
    "from cleantext import clean"
   ],
   "metadata": {
    "id": "hdUoEFOvwdxn",
    "pycharm": {
     "name": "#%%\n"
    }
   },
   "execution_count": 5,
   "outputs": []
  },
  {
   "cell_type": "code",
   "source": [],
   "metadata": {
    "id": "weeq-0WXcfp6",
    "pycharm": {
     "name": "#%%\n"
    }
   },
   "execution_count": 5,
   "outputs": []
  },
  {
   "cell_type": "markdown",
   "metadata": {
    "id": "1APzdd0cuzUV",
    "pycharm": {
     "name": "#%% md\n"
    }
   },
   "source": [
    "# Normalizing Data"
   ]
  },
  {
   "cell_type": "code",
   "source": [
    "cln = re.compile('<.*?>')"
   ],
   "metadata": {
    "id": "jo3ZudzbxBNd",
    "pycharm": {
     "name": "#%%\n"
    }
   },
   "execution_count": 6,
   "outputs": []
  },
  {
   "cell_type": "code",
   "source": [
    "def remove_html_tags(text):\n",
    "\n",
    "    \n",
    "    return re.sub(cln, '', str(text))"
   ],
   "metadata": {
    "id": "CDOnE8Tew8pU",
    "pycharm": {
     "name": "#%%\n"
    }
   },
   "execution_count": 7,
   "outputs": []
  },
  {
   "cell_type": "code",
   "source": [
    "def clean_up(email):\n",
    "    return clean(email,\n",
    "    lower=True,                     # lowercase text\n",
    "    no_line_breaks=True,           # fully strip line breaks as opposed to only normalizing them\n",
    "    no_urls=True,                  # replace all URLs with a special token\n",
    "    no_emails=True,                # replace all email addresses with a special token\n",
    "    no_phone_numbers=True,         # replace all phone numbers with a special token\n",
    "    no_numbers=True,               # replace all numbers with a special token\n",
    "    no_digits=True,                # replace all digits with a special token\n",
    "    no_currency_symbols=True,      # replace all currency symbols with a special token\n",
    "    no_punct=True,                 # remove punctuations\n",
    "    replace_with_punct=\"\",          # instead of removing punctuations you may replace them\n",
    "    replace_with_url=\" httpadr\",\n",
    "    replace_with_email=\" adremail\",\n",
    "    replace_with_phone_number=\" phone\",\n",
    "    replace_with_number=\" number\",\n",
    "    replace_with_digit=\" digit\",\n",
    "    replace_with_currency_symbol=\" currencySymbol\",\n",
    "    lang=\"en\"                       # set to 'de' for German special handling\n",
    "        )\n",
    "    "
   ],
   "metadata": {
    "id": "TRcfxLOKJWeT",
    "pycharm": {
     "name": "#%%\n"
    }
   },
   "execution_count": 8,
   "outputs": []
  },
  {
   "cell_type": "code",
   "execution_count": 9,
   "metadata": {
    "id": "L6fG0VBwYwKd",
    "pycharm": {
     "name": "#%%\n"
    }
   },
   "outputs": [],
   "source": [
    "ENGLISH_STOP_WORDS = _stop_words.ENGLISH_STOP_WORDS"
   ]
  },
  {
   "cell_type": "code",
   "execution_count": 10,
   "metadata": {
    "id": "TKEtIunWIh0N",
    "pycharm": {
     "name": "#%%\n"
    }
   },
   "outputs": [],
   "source": [
    "def remove_stop_words(words):\n",
    "    result = [i for i in words if i not in ENGLISH_STOP_WORDS]\n",
    "    return result"
   ]
  },
  {
   "cell_type": "code",
   "execution_count": 11,
   "metadata": {
    "id": "rZFfr4CbIh0H",
    "pycharm": {
     "name": "#%%\n"
    }
   },
   "outputs": [],
   "source": [
    "lemmatizer = WordNetLemmatizer()"
   ]
  },
  {
   "cell_type": "code",
   "execution_count": 12,
   "metadata": {
    "id": "1rF5i4XjIh0R",
    "pycharm": {
     "name": "#%%\n"
    }
   },
   "outputs": [],
   "source": [
    "def radacation(words):\n",
    "    return [lemmatizer.lemmatize(o) for o in words]"
   ]
  },
  {
   "cell_type": "code",
   "execution_count": 13,
   "metadata": {
    "id": "Q2TStKfQIh0U",
    "pycharm": {
     "name": "#%%\n"
    }
   },
   "outputs": [],
   "source": [
    "def normalization(words):\n",
    "    cleaning_utils = [remove_html_tags, clean_up, word_tokenize, remove_stop_words, radacation]\n",
    "    for o in cleaning_utils:\n",
    "        words = o(words)\n",
    "    return words"
   ]
  },
  {
   "cell_type": "markdown",
   "source": [
    "# Ham Data"
   ],
   "metadata": {
    "id": "7Riih2DscgLz",
    "pycharm": {
     "name": "#%% md\n"
    }
   }
  },
  {
   "cell_type": "code",
   "execution_count": 31,
   "metadata": {
    "id": "TYxurPb0vn89",
    "pycharm": {
     "name": "#%%\n"
    }
   },
   "outputs": [],
   "source": [
    "df = pd.read_csv(\"DirtyHam.csv\")\n"
   ]
  },
  {
   "cell_type": "code",
   "source": [
    "X = df.iloc[:,2] #EmailText column\n",
    "Y = df.iloc[:,1]  #Label"
   ],
   "metadata": {
    "id": "GEHjZQM-wAwz",
    "pycharm": {
     "name": "#%%\n"
    }
   },
   "execution_count": 32,
   "outputs": []
  },
  {
   "cell_type": "code",
   "source": [
    "X[10]"
   ],
   "metadata": {
    "colab": {
     "base_uri": "https://localhost:8080/",
     "height": 71
    },
    "id": "L8pWJW9gx9Q3",
    "outputId": "f0c0fb90-9a5c-4716-adc9-6ab74af4a5c1",
    "pycharm": {
     "name": "#%%\n"
    }
   },
   "execution_count": 33,
   "outputs": [
    {
     "output_type": "execute_result",
     "data": {
      "text/plain": [
       "'>>>>> \"TP\" == Tim Peters <tim.one@comcast.net> writes:\\n\\n  >> First test results using tokenizer.Tokenizer.tokenize_headers()\\n  >> unmodified.  ...  Second test results using\\n  >> mboxtest.MyTokenizer.tokenize_headers().  This uses all headers\\n  >> except Received, Data, and X-From_.  ...\\n\\n  TP> Try the latter again, but call the base tokenize_headers() too.\\n\\nSorry.  I haven\\'t found the time to try any more test runs.  Perhaps\\nlater today.\\n\\nJeremy\\n\\n'"
      ],
      "application/vnd.google.colaboratory.intrinsic+json": {
       "type": "string"
      }
     },
     "metadata": {},
     "execution_count": 33
    }
   ]
  },
  {
   "cell_type": "code",
   "source": [
    "for i in range(X.shape[0]):\n",
    "    \n",
    "    X[i] = \" \".join(normalization(X[i]))\n"
   ],
   "metadata": {
    "id": "1PRSgyDGxxt2",
    "outputId": "583e9a0c-9261-4dfc-92fe-df139475cae4",
    "colab": {
     "base_uri": "https://localhost:8080/"
    },
    "pycharm": {
     "name": "#%%\n"
    }
   },
   "execution_count": 34,
   "outputs": [
    {
     "output_type": "stream",
     "name": "stderr",
     "text": [
      "/usr/local/lib/python3.7/dist-packages/ipykernel_launcher.py:3: SettingWithCopyWarning: \n",
      "A value is trying to be set on a copy of a slice from a DataFrame\n",
      "\n",
      "See the caveats in the documentation: https://pandas.pydata.org/pandas-docs/stable/user_guide/indexing.html#returning-a-view-versus-a-copy\n",
      "  This is separate from the ipykernel package so we can avoid doing imports until\n"
     ]
    }
   ]
  },
  {
   "cell_type": "code",
   "source": [
    "X.shape"
   ],
   "metadata": {
    "id": "8A8iKYQ0dyM1",
    "outputId": "70c97ee5-8896-430f-ed32-9ebd54f6c235",
    "colab": {
     "base_uri": "https://localhost:8080/"
    },
    "pycharm": {
     "name": "#%%\n"
    }
   },
   "execution_count": 35,
   "outputs": [
    {
     "output_type": "execute_result",
     "data": {
      "text/plain": [
       "(4028,)"
      ]
     },
     "metadata": {},
     "execution_count": 35
    }
   ]
  },
  {
   "cell_type": "code",
   "source": [
    "X[0]"
   ],
   "metadata": {
    "id": "0z2cxXrSd1YE",
    "outputId": "3e730af6-3f0a-44ca-a175-a5c9631c683e",
    "colab": {
     "base_uri": "https://localhost:8080/",
     "height": 36
    },
    "pycharm": {
     "name": "#%%\n"
    }
   },
   "execution_count": 36,
   "outputs": [
    {
     "output_type": "execute_result",
     "data": {
      "text/plain": [
       "'number sep number gary lawrence murphy wrote carnivore yep w plan alng typo consistently fighting evls da vore'"
      ],
      "application/vnd.google.colaboratory.intrinsic+json": {
       "type": "string"
      }
     },
     "metadata": {},
     "execution_count": 36
    }
   ]
  },
  {
   "cell_type": "code",
   "source": [
    "Y.shape"
   ],
   "metadata": {
    "id": "SOdRjPSUz1fR",
    "outputId": "e61d95b9-bdd4-4b56-ba11-7c6b2dad06d2",
    "colab": {
     "base_uri": "https://localhost:8080/"
    },
    "pycharm": {
     "name": "#%%\n"
    }
   },
   "execution_count": 37,
   "outputs": [
    {
     "output_type": "execute_result",
     "data": {
      "text/plain": [
       "(4028,)"
      ]
     },
     "metadata": {},
     "execution_count": 37
    }
   ]
  },
  {
   "cell_type": "code",
   "execution_count": 38,
   "metadata": {
    "id": "I1ikZKVEIh0b",
    "pycharm": {
     "name": "#%%\n"
    }
   },
   "outputs": [],
   "source": [
    "clean_data = np.vstack((Y,X))"
   ]
  },
  {
   "cell_type": "code",
   "source": [
    "clean_data = clean_data.transpose()"
   ],
   "metadata": {
    "id": "mX_pwhPYzp0R",
    "pycharm": {
     "name": "#%%\n"
    }
   },
   "execution_count": 39,
   "outputs": []
  },
  {
   "cell_type": "code",
   "source": [
    "DF = pd.DataFrame(clean_data)\n",
    "  \n",
    "# save the dataframe as a csv file\n",
    "DF.to_csv(\"CleanHam.csv\")"
   ],
   "metadata": {
    "id": "v6a99MC10WaA",
    "pycharm": {
     "name": "#%%\n"
    }
   },
   "execution_count": 40,
   "outputs": []
  },
  {
   "cell_type": "markdown",
   "source": [
    "# Spam Data"
   ],
   "metadata": {
    "id": "0UuTJh_qcanw",
    "pycharm": {
     "name": "#%% md\n"
    }
   }
  },
  {
   "cell_type": "code",
   "execution_count": 41,
   "metadata": {
    "id": "5kUFYMThcaGE",
    "pycharm": {
     "name": "#%%\n"
    }
   },
   "outputs": [],
   "source": [
    "df = pd.read_csv(\"DirtySpam.csv\")\n"
   ]
  },
  {
   "cell_type": "code",
   "source": [
    "X = df.iloc[:,2] #EmailText column\n",
    "Y = df.iloc[:,1]  #Label"
   ],
   "metadata": {
    "id": "qA-tQ_qIcaGk",
    "pycharm": {
     "name": "#%%\n"
    }
   },
   "execution_count": 42,
   "outputs": []
  },
  {
   "cell_type": "markdown",
   "metadata": {
    "id": "3nHThejgcaGq",
    "pycharm": {
     "name": "#%% md\n"
    }
   },
   "source": [
    "# Normalizing Data"
   ]
  },
  {
   "cell_type": "code",
   "source": [
    "X[10]"
   ],
   "metadata": {
    "outputId": "f4e117f6-4cde-43b4-8993-232e2d19e863",
    "colab": {
     "base_uri": "https://localhost:8080/",
     "height": 123
    },
    "id": "Cu7uaoi3c1_T",
    "pycharm": {
     "name": "#%%\n"
    }
   },
   "execution_count": 43,
   "outputs": [
    {
     "output_type": "execute_result",
     "data": {
      "text/plain": [
       "'\\nDear Sir or Madam\\n\\nIn the past you have requested information on discounted products. We hope that you find this of interest. If you are not a smoker, and find this email offensive, we sincerely apologise!  We will be only too happy to take you off our mailing list.\\n\\nIf you are a smoker, however, and are fed up with paying high prices for your cigarettes and tobacco, take a look at what we have to offer  by clicking on this link.\\nhttp://www.smokersunited.co.uk/?S=24&ID=2\\n\\nWe can send you, legally, by registered air mail, direct to your door, 4 cartons of cigarettes or 40 pouches of rolling tobacco (all brands are available) from only 170 Euros - about 105 pounds - fully inclusive of postage and packing.  Why pay more?\\n\\nTo remove yourself from our mailing list, please click below\\nmailto:smokersclub@terra.es\\n\\nYours faithfully.\\nSmokers United\\nhttp://www.smokersunited.co.uk/?S=24&ID=2\\n\\nxay1y\\n\\n\\n'"
      ],
      "application/vnd.google.colaboratory.intrinsic+json": {
       "type": "string"
      }
     },
     "metadata": {},
     "execution_count": 43
    }
   ]
  },
  {
   "cell_type": "code",
   "execution_count": 44,
   "metadata": {
    "colab": {
     "base_uri": "https://localhost:8080/"
    },
    "outputId": "e95d917b-24ef-40b0-aa89-6bfce1d8c4e5",
    "id": "gnqJH5gdc1_U",
    "pycharm": {
     "name": "#%%\n"
    }
   },
   "outputs": [
    {
     "output_type": "stream",
     "name": "stderr",
     "text": [
      "/usr/local/lib/python3.7/dist-packages/ipykernel_launcher.py:3: SettingWithCopyWarning: \n",
      "A value is trying to be set on a copy of a slice from a DataFrame\n",
      "\n",
      "See the caveats in the documentation: https://pandas.pydata.org/pandas-docs/stable/user_guide/indexing.html#returning-a-view-versus-a-copy\n",
      "  This is separate from the ipykernel package so we can avoid doing imports until\n"
     ]
    }
   ],
   "source": [
    "for i in range(X.shape[0]):\n",
    "    \n",
    "    X[i] = \" \".join(normalization(X[i]))\n"
   ]
  },
  {
   "cell_type": "code",
   "execution_count": 45,
   "metadata": {
    "id": "IO3MfJf5c1_W",
    "pycharm": {
     "name": "#%%\n"
    }
   },
   "outputs": [],
   "source": [
    "clean_data = np.vstack((Y,X))"
   ]
  },
  {
   "cell_type": "code",
   "source": [
    "clean_data = clean_data.transpose()"
   ],
   "metadata": {
    "id": "O1QVnBX8c1_X",
    "pycharm": {
     "name": "#%%\n"
    }
   },
   "execution_count": 46,
   "outputs": []
  },
  {
   "cell_type": "code",
   "source": [
    "DF = pd.DataFrame(clean_data)\n",
    "  \n",
    "# save the dataframe as a csv file\n",
    "DF.to_csv(\"CleanSpam.csv\")"
   ],
   "metadata": {
    "id": "ge7Ytji6c1_X",
    "pycharm": {
     "name": "#%%\n"
    }
   },
   "execution_count": 47,
   "outputs": []
  }
 ]
}